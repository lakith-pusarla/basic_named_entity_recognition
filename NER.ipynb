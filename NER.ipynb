{
 "cells": [
  {
   "cell_type": "code",
   "outputs": [
    {
     "name": "stdout",
     "output_type": "stream",
     "text": [
      "zsh:source:1: no such file or directory: /Users/lakithpusarla/miniconda3/envs/akshay/bin/activate\r\n"
     ]
    }
   ],
   "source": [
    "!source /Users/lakithpusarla/miniconda3/envs/akshay/bin/activate"
   ],
   "metadata": {
    "collapsed": false,
    "ExecuteTime": {
     "end_time": "2024-02-22T17:31:17.896675Z",
     "start_time": "2024-02-22T17:31:17.773505Z"
    }
   },
   "id": "22a293540c8b9466",
   "execution_count": 23
  },
  {
   "cell_type": "code",
   "execution_count": 4,
   "id": "initial_id",
   "metadata": {
    "collapsed": true,
    "ExecuteTime": {
     "end_time": "2024-02-22T18:13:43.545886Z",
     "start_time": "2024-02-22T18:13:43.536266Z"
    }
   },
   "outputs": [],
   "source": [
    "import spacy"
   ]
  },
  {
   "cell_type": "code",
   "outputs": [
    {
     "name": "stdout",
     "output_type": "stream",
     "text": [
      "/Users/lakithpusarla/miniconda3/bin/python3: No module named spacy\r\n"
     ]
    }
   ],
   "source": [
    "!python3 -m spacy download en_core_web_sm"
   ],
   "metadata": {
    "collapsed": false,
    "ExecuteTime": {
     "end_time": "2024-02-22T18:14:01.070261Z",
     "start_time": "2024-02-22T18:14:00.894364Z"
    }
   },
   "id": "4464a7727ddb7df6",
   "execution_count": 7
  },
  {
   "cell_type": "code",
   "outputs": [],
   "source": [
    "nlp = spacy.load(\"en_core_web_sm\")"
   ],
   "metadata": {
    "collapsed": false,
    "ExecuteTime": {
     "end_time": "2024-02-22T18:15:50.614040Z",
     "start_time": "2024-02-22T18:15:50.289134Z"
    }
   },
   "id": "ec90ad99db3e22ec",
   "execution_count": 9
  },
  {
   "cell_type": "code",
   "outputs": [],
   "source": [
    "text = u'Meet me at the university on December 25th.'"
   ],
   "metadata": {
    "collapsed": false,
    "ExecuteTime": {
     "end_time": "2024-02-22T18:16:47.861903Z",
     "start_time": "2024-02-22T18:16:47.855057Z"
    }
   },
   "id": "b34a2e09ca6eab6a",
   "execution_count": 10
  },
  {
   "cell_type": "code",
   "outputs": [],
   "source": [
    "doc = nlp(text)"
   ],
   "metadata": {
    "collapsed": false,
    "ExecuteTime": {
     "end_time": "2024-02-22T18:17:01.500507Z",
     "start_time": "2024-02-22T18:17:01.479259Z"
    }
   },
   "id": "c0a82815211d4455",
   "execution_count": 11
  },
  {
   "cell_type": "code",
   "outputs": [],
   "source": [
    "def displayEntities(doc):\n",
    "    if doc.ents:\n",
    "        for entity in doc.ents:\n",
    "            print(f'Entity: {entity.text} | Label: {entity.label_}')\n",
    "    else:\n",
    "        print('[INFO] No entities found ')"
   ],
   "metadata": {
    "collapsed": false,
    "ExecuteTime": {
     "end_time": "2024-02-22T18:18:16.881707Z",
     "start_time": "2024-02-22T18:18:16.873720Z"
    }
   },
   "id": "d34293ea034a794b",
   "execution_count": 12
  },
  {
   "cell_type": "code",
   "outputs": [
    {
     "name": "stdout",
     "output_type": "stream",
     "text": [
      "Entity: the university on | Label: ORG\n",
      "Entity: December 25th | Label: DATE\n"
     ]
    }
   ],
   "source": [
    "displayEntities(doc)"
   ],
   "metadata": {
    "collapsed": false,
    "ExecuteTime": {
     "end_time": "2024-02-22T18:18:22.259204Z",
     "start_time": "2024-02-22T18:18:22.251738Z"
    }
   },
   "id": "55e3ae2d133f1f7b",
   "execution_count": 13
  },
  {
   "cell_type": "code",
   "outputs": [],
   "source": [
    "def displayEntitiesWithExplanation(doc):\n",
    "    if doc.ents:\n",
    "        for entity in doc.ents:\n",
    "            print(f'Entity: {entity.text} | Label: {entity.label_} | Explanation: {spacy.explain(entity.label_)}')\n",
    "    else:\n",
    "        print('[INFO] No entities found ')"
   ],
   "metadata": {
    "collapsed": false,
    "ExecuteTime": {
     "end_time": "2024-02-22T18:19:57.427546Z",
     "start_time": "2024-02-22T18:19:57.421268Z"
    }
   },
   "id": "9a7b7f81447661ab",
   "execution_count": 16
  },
  {
   "cell_type": "code",
   "outputs": [
    {
     "name": "stdout",
     "output_type": "stream",
     "text": [
      "Entity: the university on | Label: ORG | Explanation: Companies, agencies, institutions, etc.\n",
      "Entity: December 25th | Label: DATE | Explanation: Absolute or relative dates or periods\n"
     ]
    }
   ],
   "source": [
    "displayEntitiesWithExplanation(doc)"
   ],
   "metadata": {
    "collapsed": false,
    "ExecuteTime": {
     "end_time": "2024-02-22T18:19:57.900655Z",
     "start_time": "2024-02-22T18:19:57.896947Z"
    }
   },
   "id": "ef35a08f20ac7a4c",
   "execution_count": 17
  },
  {
   "cell_type": "code",
   "outputs": [],
   "source": [
    "text2 = u\"I ordered the item on Amazon on January 23rd, 2022 when I was in North Carolina\"\n",
    "doc2 = nlp(text2)"
   ],
   "metadata": {
    "collapsed": false,
    "ExecuteTime": {
     "end_time": "2024-02-22T18:48:08.699201Z",
     "start_time": "2024-02-22T18:48:08.664990Z"
    }
   },
   "id": "ac4b8fcd61d5fb59",
   "execution_count": 26
  },
  {
   "cell_type": "code",
   "outputs": [
    {
     "name": "stdout",
     "output_type": "stream",
     "text": [
      "Entity: Amazon | Label: ORG | Explanation: Companies, agencies, institutions, etc.\n",
      "Entity: January 23rd, 2022 | Label: DATE | Explanation: Absolute or relative dates or periods\n",
      "Entity: North Carolina | Label: GPE | Explanation: Countries, cities, states\n"
     ]
    }
   ],
   "source": [
    "displayEntitiesWithExplanation(doc2)"
   ],
   "metadata": {
    "collapsed": false,
    "ExecuteTime": {
     "end_time": "2024-02-22T18:48:09.191152Z",
     "start_time": "2024-02-22T18:48:09.187609Z"
    }
   },
   "id": "aa084aa5795063f4",
   "execution_count": 27
  },
  {
   "cell_type": "code",
   "outputs": [],
   "source": [],
   "metadata": {
    "collapsed": false
   },
   "id": "b937953f8ae5b0a9"
  }
 ],
 "metadata": {
  "kernelspec": {
   "display_name": "Python 3",
   "language": "python",
   "name": "python3"
  },
  "language_info": {
   "codemirror_mode": {
    "name": "ipython",
    "version": 2
   },
   "file_extension": ".py",
   "mimetype": "text/x-python",
   "name": "python",
   "nbconvert_exporter": "python",
   "pygments_lexer": "ipython2",
   "version": "2.7.6"
  }
 },
 "nbformat": 4,
 "nbformat_minor": 5
}
